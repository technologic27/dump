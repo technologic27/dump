{
 "cells": [
  {
   "cell_type": "code",
   "execution_count": 3,
   "metadata": {},
   "outputs": [],
   "source": [
    "from runLSTM import buildRunLSTM\n",
    "import numpy as np\n",
    "from keras.preprocessing import sequence\n",
    "from keras.models import Sequential\n",
    "from keras.layers.core import Dense\n",
    "from keras.layers.core import Dropout\n",
    "from keras.layers.core import Activation\n",
    "from keras.layers.embeddings import Embedding\n",
    "from keras.layers.recurrent import LSTM\n",
    "import sklearn\n",
    "from sklearn.model_selection import train_test_split\n",
    "from sklearn import preprocessing \n",
    "from sklearn.preprocessing import StandardScaler\n",
    "from sklearn.externals import joblib\n",
    "import pickle\n",
    "import pandas as pd"
   ]
  },
  {
   "cell_type": "code",
   "execution_count": 4,
   "metadata": {},
   "outputs": [],
   "source": [
    "with open(\"data/traindata_01.pkl\", \"rb\") as input_file:\n",
    "    generated_data = pickle.load(input_file)\n",
    "\n",
    "list_tuples = [x for x in generated_data]"
   ]
  },
  {
   "cell_type": "code",
   "execution_count": 5,
   "metadata": {},
   "outputs": [],
   "source": [
    "b = buildRunLSTM()\n",
    "X, y, max_features, maxlen, labels = b.read_data(list_tuples)"
   ]
  },
  {
   "cell_type": "code",
   "execution_count": 87,
   "metadata": {},
   "outputs": [],
   "source": [
    "scaler = preprocessing.MinMaxScaler(feature_range=(0, 1))\n",
    "csv_data = scaler.fit_transform(X[1:1000000])\n"
   ]
  },
  {
   "cell_type": "code",
   "execution_count": 56,
   "metadata": {},
   "outputs": [],
   "source": [
    "#for testing\n",
    "\n",
    "csv_data_test = scaler.transform(X[1900001:2000010])\n",
    "testX = csv_data_test.reshape(csv_data_test.shape[0], maxlen, 1)\n"
   ]
  },
  {
   "cell_type": "code",
   "execution_count": 29,
   "metadata": {},
   "outputs": [
    {
     "data": {
      "text/plain": [
       "(9, 59, 1)"
      ]
     },
     "execution_count": 29,
     "metadata": {},
     "output_type": "execute_result"
    }
   ],
   "source": [
    "testX.shape"
   ]
  },
  {
   "cell_type": "code",
   "execution_count": 58,
   "metadata": {},
   "outputs": [],
   "source": [
    "X_training, X_testing, y_training, y_testing, _, label_testing = train_test_split(testX, y[1900001:2000010], labels[1900001:2000010], test_size=0.1)\n"
   ]
  },
  {
   "cell_type": "code",
   "execution_count": 88,
   "metadata": {},
   "outputs": [],
   "source": [
    "X2 = csv_data.reshape(csv_data.shape[0], maxlen, 1)\n",
    "\n",
    "X_train, X_test, y_train, y_test, _, label_test = train_test_split(X2, y[1:1000000], labels[1:1000000], test_size=0.2)"
   ]
  },
  {
   "cell_type": "code",
   "execution_count": 12,
   "metadata": {},
   "outputs": [
    {
     "data": {
      "text/plain": [
       "array([[0.        ],\n",
       "       [0.        ],\n",
       "       [0.        ],\n",
       "       [0.        ],\n",
       "       [0.        ],\n",
       "       [0.        ],\n",
       "       [0.        ],\n",
       "       [0.        ],\n",
       "       [0.        ],\n",
       "       [0.        ],\n",
       "       [0.        ],\n",
       "       [0.        ],\n",
       "       [0.        ],\n",
       "       [0.        ],\n",
       "       [0.        ],\n",
       "       [0.        ],\n",
       "       [0.        ],\n",
       "       [0.        ],\n",
       "       [0.        ],\n",
       "       [0.        ],\n",
       "       [0.        ],\n",
       "       [0.        ],\n",
       "       [0.        ],\n",
       "       [0.        ],\n",
       "       [0.        ],\n",
       "       [0.        ],\n",
       "       [0.        ],\n",
       "       [0.        ],\n",
       "       [0.        ],\n",
       "       [0.        ],\n",
       "       [0.        ],\n",
       "       [0.        ],\n",
       "       [0.        ],\n",
       "       [0.        ],\n",
       "       [0.        ],\n",
       "       [0.        ],\n",
       "       [0.        ],\n",
       "       [0.        ],\n",
       "       [0.        ],\n",
       "       [0.        ],\n",
       "       [0.        ],\n",
       "       [0.        ],\n",
       "       [0.        ],\n",
       "       [0.        ],\n",
       "       [0.        ],\n",
       "       [0.        ],\n",
       "       [0.        ],\n",
       "       [1.        ],\n",
       "       [0.15384615],\n",
       "       [0.76923077],\n",
       "       [0.23076923],\n",
       "       [0.35897436],\n",
       "       [0.71794872],\n",
       "       [0.1025641 ],\n",
       "       [0.23076923],\n",
       "       [0.17948718],\n",
       "       [0.35897436],\n",
       "       [0.02564103],\n",
       "       [0.10526316]])"
      ]
     },
     "execution_count": 12,
     "metadata": {},
     "output_type": "execute_result"
    }
   ],
   "source": [
    "X_train[0]"
   ]
  },
  {
   "cell_type": "code",
   "execution_count": null,
   "metadata": {},
   "outputs": [],
   "source": [
    "# reshape X to be [samples, time steps, features]\n",
    "#X2 = np.reshape(X, (len(X), maxlen, 1))\n",
    "# normalize\n",
    "#X2 = X2 / float(max_features)\n",
    "# one hot encode the output variable\n",
    "#y = np_utils.to_categorical(dataY)"
   ]
  },
  {
   "cell_type": "code",
   "execution_count": null,
   "metadata": {},
   "outputs": [],
   "source": [
    "#X2 = X.reshape(X.shape[0], maxlen, 1)\n",
    "#X2 = X2 / float(max_features)"
   ]
  },
  {
   "cell_type": "code",
   "execution_count": null,
   "metadata": {},
   "outputs": [],
   "source": [
    "def _load_data(data, n_prev = 1):\n",
    "    \"\"\"\n",
    "    data should be pd.DataFrame()\n",
    "    \"\"\"\n",
    "    docX, docY = [], []\n",
    "    for i in range(len(data)-n_prev):\n",
    "        docX.append(data.iloc[i:i+n_prev].as_matrix())\n",
    "        docY.append(data.iloc[i+n_prev].as_matrix())\n",
    "    alsX = np.array(docX)\n",
    "    alsY = np.array(docY)\n",
    "    return alsX, alsY\n",
    "\n",
    "def train_test_split_own(df, test_size=0.4):  \n",
    "    \"\"\"\n",
    "    This just splits data to training and testing parts\n",
    "    \"\"\"\n",
    "    ntrn = int(round(len(df) * (1 - test_size)))\n",
    "    X_train, y_train = _load_data(df.iloc[0:ntrn])\n",
    "    X_test, y_test = _load_data(df.iloc[ntrn:])\n",
    "    return (X_train, y_train), (X_test, y_test)\n",
    "\n",
    "def pred_data(df):  \n",
    "    X_pred, y_pred = _load_data(df)\n",
    "    return (X_pred, y_pred)"
   ]
  },
  {
   "cell_type": "code",
   "execution_count": null,
   "metadata": {},
   "outputs": [],
   "source": [
    "(X_train, y_train), (X_test, y_test) = train_test_split_own(data)  # retrieve data\n",
    "#(nX_train, ny_train), (nX_test, ny_test) = train_test_split_own(data)  # retrieve data"
   ]
  },
  {
   "cell_type": "code",
   "execution_count": null,
   "metadata": {},
   "outputs": [],
   "source": [
    "X_train[0]"
   ]
  },
  {
   "cell_type": "code",
   "execution_count": null,
   "metadata": {},
   "outputs": [],
   "source": [
    "#for fold in range(1):\n",
    "\n",
    "X_train, X_test, y_train, y_test, _, label_test = train_test_split(X[1:100000], y[1:100000], labels[1:100000], test_size=0.2)\n",
    "#X_train, X_holdout, y_train, y_holdout = train_test_split(X_train, y_train, test_size=0.05)\n",
    " "
   ]
  },
  {
   "cell_type": "code",
   "execution_count": null,
   "metadata": {},
   "outputs": [],
   "source": [
    "X_train[0]"
   ]
  },
  {
   "cell_type": "code",
   "execution_count": 13,
   "metadata": {},
   "outputs": [
    {
     "name": "stdout",
     "output_type": "stream",
     "text": [
      "_________________________________________________________________\n",
      "Layer (type)                 Output Shape              Param #   \n",
      "=================================================================\n",
      "lstm_1 (LSTM)                (None, 59, 62)            15872     \n",
      "_________________________________________________________________\n",
      "lstm_2 (LSTM)                (None, 31)                11656     \n",
      "_________________________________________________________________\n",
      "repeat_vector_1 (RepeatVecto (None, 59, 31)            0         \n",
      "_________________________________________________________________\n",
      "lstm_3 (LSTM)                (None, 59, 31)            7812      \n",
      "_________________________________________________________________\n",
      "lstm_4 (LSTM)                (None, 59, 31)            7812      \n",
      "_________________________________________________________________\n",
      "time_distributed_1 (TimeDist (None, 59, 1)             32        \n",
      "=================================================================\n",
      "Total params: 43,184\n",
      "Trainable params: 43,184\n",
      "Non-trainable params: 0\n",
      "_________________________________________________________________\n"
     ]
    }
   ],
   "source": [
    "\n",
    "from keras.layers import Input, LSTM, RepeatVector, Dropout\n",
    "from keras.models import Model\n",
    "from keras.layers import TimeDistributed\n",
    "\n",
    "latent_dim = 500 #hidden layer size\n",
    "timesteps = 59 #time step per sample\n",
    "input_dim = 1 #feature size, MUST MATCH ROW OF UNIQUE_FRAME\n",
    "\n",
    "#Build autoencoder\n",
    "#inputs = Input(shape=(timesteps, input_dim))\n",
    "#encoded = LSTM(latent_dim, return_sequences=True)(inputs)\n",
    "#encoded = Dropout(0.2)(encoded)\n",
    "#encoded = LSTM(latent_dim, activation='tanh')(encoded)\n",
    "#encoder = Model(inputs, encoded)\n",
    "#encoder.compile(loss=\"mse\", optimizer=\"rmsprop\", metrics=['accuracy'])\n",
    "#encoder.summary()\n",
    "\n",
    "\n",
    "#this code compiles and trains works\n",
    "#timesteps = X_train.shape[1]\n",
    "#input_dim = 1\n",
    "#inputs = Input(shape=(timesteps, input_dim))\n",
    "#encoded = LSTM(32,return_sequences = True)(inputs)\n",
    "#encoded = LSTM(32,return_sequences = True)(encoded)\n",
    "#encoded = LSTM(32)(encoded)\n",
    "##encoded = LSTM(input_dim,return_sequences = True)(encoded)\n",
    "#decoded = RepeatVector(timesteps)(encoded) \n",
    "#decoded =  LSTM(32, return_sequences = True)(decoded)                                   \n",
    "#decoded =  LSTM(32,return_sequences = True)(decoded)\n",
    "#decoded =  LSTM(input_dim,return_sequences = True)(decoded)\n",
    "#sequence_autoencoder = Model(inputs, decoded)\n",
    "##sequence_autoencoder = Model(inputs, encoded)\n",
    "#sequence_autoencoder.compile(loss='mean_squared_error', optimizer='Adam')\n",
    "#sequence_autoencoder.summary()\n",
    "\n",
    "timesteps = X_train.shape[1]\n",
    "n_features = X_train.shape[2] \n",
    "encoding_dim = 62\n",
    "hidden_dim = int(encoding_dim / 2)\n",
    "\n",
    "lstm_autoencoder = Sequential()\n",
    "# Encoder\n",
    "lstm_autoencoder.add(LSTM(encoding_dim, input_shape=(timesteps, n_features), return_sequences=True))\n",
    "lstm_autoencoder.add(LSTM(hidden_dim, return_sequences=False))\n",
    "lstm_autoencoder.add(RepeatVector(timesteps))\n",
    "# Decoder\n",
    "lstm_autoencoder.add(LSTM(hidden_dim, return_sequences=True))\n",
    "lstm_autoencoder.add(LSTM(hidden_dim, return_sequences=True))\n",
    "lstm_autoencoder.add(TimeDistributed(Dense(n_features)))\n",
    "\n",
    "lstm_autoencoder.summary()\n",
    "lstm_autoencoder.compile(loss='mse', optimizer='adam')\n",
    "\n",
    "#works too, but it is not LSTM\n",
    "#input_dim = X_train.shape[1] #num of predictor variables, \n",
    "#encoding_dim = 128\n",
    "#hidden_dim = int(encoding_dim / 2)\n",
    "\n",
    "#input_layer = Input(shape=(input_dim, ))\n",
    "#encoder = Dense(encoding_dim, activation=\"relu\")(input_layer)\n",
    "#encoder = Dense(hidden_dim, activation=\"relu\")(encoder)\n",
    "#decoder = Dense(hidden_dim, activation=\"relu\")(encoder)\n",
    "#decoder = Dense(encoding_dim, activation=\"relu\")(decoder)\n",
    "#decoder = Dense(input_dim, activation=\"linear\")(decoder)\n",
    "#autoencoder = Model(inputs=input_layer, outputs=decoder)\n",
    "#autoencoder.summary()\n",
    "#autoencoder.compile(metrics=['accuracy'],\n",
    "#                    loss='mean_squared_error',\n",
    "#                    optimizer='adam')\n"
   ]
  },
  {
   "cell_type": "code",
   "execution_count": 14,
   "metadata": {},
   "outputs": [
    {
     "name": "stdout",
     "output_type": "stream",
     "text": [
      "Epoch 1/200\n",
      "799999/799999 [==============================] - 3262s 4ms/step - loss: 0.0115\n",
      "Epoch 2/200\n",
      "799999/799999 [==============================] - 3253s 4ms/step - loss: 0.0070\n",
      "Epoch 3/200\n",
      "799999/799999 [==============================] - 3245s 4ms/step - loss: 0.0046\n",
      "Epoch 4/200\n",
      "799999/799999 [==============================] - 3242s 4ms/step - loss: 0.0031\n",
      "Epoch 5/200\n",
      "799999/799999 [==============================] - 3252s 4ms/step - loss: 0.0021\n",
      "Epoch 6/200\n",
      "799999/799999 [==============================] - 3252s 4ms/step - loss: 0.0015\n",
      "Epoch 7/200\n",
      "799999/799999 [==============================] - 3250s 4ms/step - loss: 0.0019\n",
      "Epoch 8/200\n",
      "799999/799999 [==============================] - 3252s 4ms/step - loss: 0.0014\n",
      "Epoch 9/200\n",
      "799999/799999 [==============================] - 3255s 4ms/step - loss: 0.0010\n",
      "Epoch 10/200\n",
      "799999/799999 [==============================] - 3250s 4ms/step - loss: 6.8758e-04\n",
      "Epoch 11/200\n",
      "799999/799999 [==============================] - 3259s 4ms/step - loss: 5.1669e-04\n",
      "Epoch 12/200\n",
      "799999/799999 [==============================] - 3256s 4ms/step - loss: 9.8848e-04\n",
      "Epoch 13/200\n",
      "799999/799999 [==============================] - 3257s 4ms/step - loss: 6.1505e-04\n",
      "Epoch 14/200\n",
      "799999/799999 [==============================] - 3249s 4ms/step - loss: 4.9907e-04\n",
      "Epoch 15/200\n",
      "799999/799999 [==============================] - 3257s 4ms/step - loss: 4.2685e-04\n",
      "Epoch 16/200\n",
      "799999/799999 [==============================] - 3246s 4ms/step - loss: 3.9887e-04\n",
      "Epoch 17/200\n",
      "799999/799999 [==============================] - 3249s 4ms/step - loss: 3.4450e-04\n",
      "Epoch 18/200\n",
      "799999/799999 [==============================] - 3258s 4ms/step - loss: 3.1164e-04\n",
      "Epoch 19/200\n",
      "799999/799999 [==============================] - 3261s 4ms/step - loss: 5.1265e-04\n",
      "Epoch 20/200\n",
      "799999/799999 [==============================] - 3261s 4ms/step - loss: 3.8031e-04\n",
      "Epoch 21/200\n",
      "799999/799999 [==============================] - 3255s 4ms/step - loss: 3.0699e-04\n",
      "Epoch 22/200\n",
      "799999/799999 [==============================] - 3253s 4ms/step - loss: 2.7789e-04\n",
      "Epoch 23/200\n",
      "799999/799999 [==============================] - 3255s 4ms/step - loss: 2.3847e-04\n",
      "Epoch 24/200\n",
      "799999/799999 [==============================] - 3259s 4ms/step - loss: 2.1658e-04\n",
      "Epoch 25/200\n",
      "799999/799999 [==============================] - 3252s 4ms/step - loss: 2.0061e-04\n",
      "Epoch 26/200\n",
      "799999/799999 [==============================] - 3252s 4ms/step - loss: 1.7856e-04\n",
      "Epoch 27/200\n",
      "799999/799999 [==============================] - 3255s 4ms/step - loss: 1.6602e-04\n",
      "Epoch 28/200\n",
      "799999/799999 [==============================] - 3257s 4ms/step - loss: 1.6063e-04\n",
      "Epoch 29/200\n",
      "799999/799999 [==============================] - 3258s 4ms/step - loss: 1.4691e-04\n",
      "Epoch 30/200\n",
      "799999/799999 [==============================] - 3256s 4ms/step - loss: 1.4660e-04\n",
      "Epoch 31/200\n",
      "799999/799999 [==============================] - 3247s 4ms/step - loss: 1.7196e-04\n",
      "Epoch 32/200\n",
      "799999/799999 [==============================] - 3236s 4ms/step - loss: 1.2808e-04\n",
      "Epoch 33/200\n",
      "799999/799999 [==============================] - 3229s 4ms/step - loss: 1.3170e-04\n",
      "Epoch 34/200\n",
      "799999/799999 [==============================] - 3232s 4ms/step - loss: 1.1728e-04\n",
      "Epoch 35/200\n",
      "799999/799999 [==============================] - 3236s 4ms/step - loss: 1.1912e-04\n",
      "Epoch 36/200\n",
      "799999/799999 [==============================] - 3229s 4ms/step - loss: 1.0587e-04\n",
      "Epoch 37/200\n",
      "799999/799999 [==============================] - 3234s 4ms/step - loss: 1.1666e-04\n",
      "Epoch 38/200\n",
      "799999/799999 [==============================] - 3233s 4ms/step - loss: 1.0216e-04\n",
      "Epoch 39/200\n",
      "799999/799999 [==============================] - 3240s 4ms/step - loss: 9.5986e-05\n",
      "Epoch 40/200\n",
      "799999/799999 [==============================] - 3240s 4ms/step - loss: 1.3648e-04\n",
      "Epoch 41/200\n",
      "799999/799999 [==============================] - 3244s 4ms/step - loss: 1.1555e-04\n",
      "Epoch 42/200\n",
      "799999/799999 [==============================] - 3241s 4ms/step - loss: 9.2993e-05\n",
      "Epoch 43/200\n",
      "799999/799999 [==============================] - 3237s 4ms/step - loss: 9.0059e-05\n",
      "Epoch 44/200\n",
      "799999/799999 [==============================] - 3240s 4ms/step - loss: 1.0835e-04\n",
      "Epoch 45/200\n",
      "799999/799999 [==============================] - 3242s 4ms/step - loss: 8.5596e-05\n",
      "Epoch 46/200\n",
      "799999/799999 [==============================] - 3240s 4ms/step - loss: 9.1785e-05\n",
      "Epoch 47/200\n",
      "799999/799999 [==============================] - 3242s 4ms/step - loss: 8.0640e-05\n",
      "Epoch 48/200\n",
      "799999/799999 [==============================] - 3242s 4ms/step - loss: 9.2939e-05\n",
      "Epoch 49/200\n",
      "799999/799999 [==============================] - 3237s 4ms/step - loss: 1.4166e-04\n",
      "Epoch 50/200\n",
      "799999/799999 [==============================] - 3242s 4ms/step - loss: 7.3292e-05\n",
      "Epoch 51/200\n",
      "799999/799999 [==============================] - 3240s 4ms/step - loss: 1.0790e-04\n",
      "Epoch 52/200\n",
      "799999/799999 [==============================] - 3242s 4ms/step - loss: 7.2419e-05\n",
      "Epoch 53/200\n",
      "799999/799999 [==============================] - 3235s 4ms/step - loss: 7.0544e-05\n",
      "Epoch 54/200\n",
      "799999/799999 [==============================] - 3240s 4ms/step - loss: 2.9191e-04\n",
      "Epoch 55/200\n",
      "799999/799999 [==============================] - 3248s 4ms/step - loss: 2.2293e-04\n",
      "Epoch 56/200\n",
      "799999/799999 [==============================] - 3242s 4ms/step - loss: 1.7446e-04\n",
      "Epoch 57/200\n",
      "799999/799999 [==============================] - 3246s 4ms/step - loss: 1.4762e-04\n",
      "Epoch 58/200\n",
      "799999/799999 [==============================] - 3246s 4ms/step - loss: 1.3347e-04\n",
      "Epoch 59/200\n",
      "799999/799999 [==============================] - 3239s 4ms/step - loss: 1.1953e-04\n",
      "Epoch 60/200\n",
      "799999/799999 [==============================] - 3243s 4ms/step - loss: 1.0718e-04\n",
      "Epoch 61/200\n",
      "799999/799999 [==============================] - 3243s 4ms/step - loss: 9.7132e-05\n",
      "Epoch 62/200\n",
      "799999/799999 [==============================] - 3245s 4ms/step - loss: 9.1678e-05\n",
      "Epoch 63/200\n",
      "799999/799999 [==============================] - 3246s 4ms/step - loss: 8.7049e-05\n",
      "Epoch 64/200\n",
      "799999/799999 [==============================] - 3246s 4ms/step - loss: 8.1884e-05\n",
      "Epoch 65/200\n",
      "799999/799999 [==============================] - 3246s 4ms/step - loss: 7.8492e-05\n",
      "Epoch 66/200\n",
      "799999/799999 [==============================] - 3241s 4ms/step - loss: 7.5462e-05\n",
      "Epoch 67/200\n",
      "799999/799999 [==============================] - 3239s 4ms/step - loss: 7.1445e-05\n",
      "Epoch 68/200\n",
      "799999/799999 [==============================] - 3239s 4ms/step - loss: 7.0107e-05\n",
      "Epoch 69/200\n",
      "799999/799999 [==============================] - 3240s 4ms/step - loss: 6.9225e-05\n",
      "Epoch 70/200\n",
      "710656/799999 [=========================>....] - ETA: 6:01 - loss: 6.7184e-05"
     ]
    },
    {
     "ename": "KeyboardInterrupt",
     "evalue": "",
     "output_type": "error",
     "traceback": [
      "\u001b[1;31m---------------------------------------------------------------------------\u001b[0m",
      "\u001b[1;31mKeyboardInterrupt\u001b[0m                         Traceback (most recent call last)",
      "\u001b[1;32m<ipython-input-14-47a423c7f53f>\u001b[0m in \u001b[0;36m<module>\u001b[1;34m\u001b[0m\n\u001b[0;32m      1\u001b[0m lstm_autoencoder.fit(X_train, X_train,\n\u001b[0;32m      2\u001b[0m                      \u001b[0mepochs\u001b[0m\u001b[1;33m=\u001b[0m\u001b[1;36m200\u001b[0m\u001b[1;33m,\u001b[0m\u001b[1;33m\u001b[0m\u001b[0m\n\u001b[1;32m----> 3\u001b[1;33m                      batch_size=128)\n\u001b[0m",
      "\u001b[1;32mc:\\users\\analytics\\appdata\\local\\conda\\conda\\envs\\tensorflow\\lib\\site-packages\\keras\\engine\\training.py\u001b[0m in \u001b[0;36mfit\u001b[1;34m(self, x, y, batch_size, epochs, verbose, callbacks, validation_split, validation_data, shuffle, class_weight, sample_weight, initial_epoch, steps_per_epoch, validation_steps, **kwargs)\u001b[0m\n\u001b[0;32m   1037\u001b[0m                                         \u001b[0minitial_epoch\u001b[0m\u001b[1;33m=\u001b[0m\u001b[0minitial_epoch\u001b[0m\u001b[1;33m,\u001b[0m\u001b[1;33m\u001b[0m\u001b[0m\n\u001b[0;32m   1038\u001b[0m                                         \u001b[0msteps_per_epoch\u001b[0m\u001b[1;33m=\u001b[0m\u001b[0msteps_per_epoch\u001b[0m\u001b[1;33m,\u001b[0m\u001b[1;33m\u001b[0m\u001b[0m\n\u001b[1;32m-> 1039\u001b[1;33m                                         validation_steps=validation_steps)\n\u001b[0m\u001b[0;32m   1040\u001b[0m \u001b[1;33m\u001b[0m\u001b[0m\n\u001b[0;32m   1041\u001b[0m     def evaluate(self, x=None, y=None,\n",
      "\u001b[1;32mc:\\users\\analytics\\appdata\\local\\conda\\conda\\envs\\tensorflow\\lib\\site-packages\\keras\\engine\\training_arrays.py\u001b[0m in \u001b[0;36mfit_loop\u001b[1;34m(model, f, ins, out_labels, batch_size, epochs, verbose, callbacks, val_f, val_ins, shuffle, callback_metrics, initial_epoch, steps_per_epoch, validation_steps)\u001b[0m\n\u001b[0;32m    197\u001b[0m                     \u001b[0mins_batch\u001b[0m\u001b[1;33m[\u001b[0m\u001b[0mi\u001b[0m\u001b[1;33m]\u001b[0m \u001b[1;33m=\u001b[0m \u001b[0mins_batch\u001b[0m\u001b[1;33m[\u001b[0m\u001b[0mi\u001b[0m\u001b[1;33m]\u001b[0m\u001b[1;33m.\u001b[0m\u001b[0mtoarray\u001b[0m\u001b[1;33m(\u001b[0m\u001b[1;33m)\u001b[0m\u001b[1;33m\u001b[0m\u001b[0m\n\u001b[0;32m    198\u001b[0m \u001b[1;33m\u001b[0m\u001b[0m\n\u001b[1;32m--> 199\u001b[1;33m                 \u001b[0mouts\u001b[0m \u001b[1;33m=\u001b[0m \u001b[0mf\u001b[0m\u001b[1;33m(\u001b[0m\u001b[0mins_batch\u001b[0m\u001b[1;33m)\u001b[0m\u001b[1;33m\u001b[0m\u001b[0m\n\u001b[0m\u001b[0;32m    200\u001b[0m                 \u001b[0mouts\u001b[0m \u001b[1;33m=\u001b[0m \u001b[0mto_list\u001b[0m\u001b[1;33m(\u001b[0m\u001b[0mouts\u001b[0m\u001b[1;33m)\u001b[0m\u001b[1;33m\u001b[0m\u001b[0m\n\u001b[0;32m    201\u001b[0m                 \u001b[1;32mfor\u001b[0m \u001b[0ml\u001b[0m\u001b[1;33m,\u001b[0m \u001b[0mo\u001b[0m \u001b[1;32min\u001b[0m \u001b[0mzip\u001b[0m\u001b[1;33m(\u001b[0m\u001b[0mout_labels\u001b[0m\u001b[1;33m,\u001b[0m \u001b[0mouts\u001b[0m\u001b[1;33m)\u001b[0m\u001b[1;33m:\u001b[0m\u001b[1;33m\u001b[0m\u001b[0m\n",
      "\u001b[1;32mc:\\users\\analytics\\appdata\\local\\conda\\conda\\envs\\tensorflow\\lib\\site-packages\\keras\\backend\\tensorflow_backend.py\u001b[0m in \u001b[0;36m__call__\u001b[1;34m(self, inputs)\u001b[0m\n\u001b[0;32m   2713\u001b[0m                 \u001b[1;32mreturn\u001b[0m \u001b[0mself\u001b[0m\u001b[1;33m.\u001b[0m\u001b[0m_legacy_call\u001b[0m\u001b[1;33m(\u001b[0m\u001b[0minputs\u001b[0m\u001b[1;33m)\u001b[0m\u001b[1;33m\u001b[0m\u001b[0m\n\u001b[0;32m   2714\u001b[0m \u001b[1;33m\u001b[0m\u001b[0m\n\u001b[1;32m-> 2715\u001b[1;33m             \u001b[1;32mreturn\u001b[0m \u001b[0mself\u001b[0m\u001b[1;33m.\u001b[0m\u001b[0m_call\u001b[0m\u001b[1;33m(\u001b[0m\u001b[0minputs\u001b[0m\u001b[1;33m)\u001b[0m\u001b[1;33m\u001b[0m\u001b[0m\n\u001b[0m\u001b[0;32m   2716\u001b[0m         \u001b[1;32melse\u001b[0m\u001b[1;33m:\u001b[0m\u001b[1;33m\u001b[0m\u001b[0m\n\u001b[0;32m   2717\u001b[0m             \u001b[1;32mif\u001b[0m \u001b[0mpy_any\u001b[0m\u001b[1;33m(\u001b[0m\u001b[0mis_tensor\u001b[0m\u001b[1;33m(\u001b[0m\u001b[0mx\u001b[0m\u001b[1;33m)\u001b[0m \u001b[1;32mfor\u001b[0m \u001b[0mx\u001b[0m \u001b[1;32min\u001b[0m \u001b[0minputs\u001b[0m\u001b[1;33m)\u001b[0m\u001b[1;33m:\u001b[0m\u001b[1;33m\u001b[0m\u001b[0m\n",
      "\u001b[1;32mc:\\users\\analytics\\appdata\\local\\conda\\conda\\envs\\tensorflow\\lib\\site-packages\\keras\\backend\\tensorflow_backend.py\u001b[0m in \u001b[0;36m_call\u001b[1;34m(self, inputs)\u001b[0m\n\u001b[0;32m   2673\u001b[0m             \u001b[0mfetched\u001b[0m \u001b[1;33m=\u001b[0m \u001b[0mself\u001b[0m\u001b[1;33m.\u001b[0m\u001b[0m_callable_fn\u001b[0m\u001b[1;33m(\u001b[0m\u001b[1;33m*\u001b[0m\u001b[0marray_vals\u001b[0m\u001b[1;33m,\u001b[0m \u001b[0mrun_metadata\u001b[0m\u001b[1;33m=\u001b[0m\u001b[0mself\u001b[0m\u001b[1;33m.\u001b[0m\u001b[0mrun_metadata\u001b[0m\u001b[1;33m)\u001b[0m\u001b[1;33m\u001b[0m\u001b[0m\n\u001b[0;32m   2674\u001b[0m         \u001b[1;32melse\u001b[0m\u001b[1;33m:\u001b[0m\u001b[1;33m\u001b[0m\u001b[0m\n\u001b[1;32m-> 2675\u001b[1;33m             \u001b[0mfetched\u001b[0m \u001b[1;33m=\u001b[0m \u001b[0mself\u001b[0m\u001b[1;33m.\u001b[0m\u001b[0m_callable_fn\u001b[0m\u001b[1;33m(\u001b[0m\u001b[1;33m*\u001b[0m\u001b[0marray_vals\u001b[0m\u001b[1;33m)\u001b[0m\u001b[1;33m\u001b[0m\u001b[0m\n\u001b[0m\u001b[0;32m   2676\u001b[0m         \u001b[1;32mreturn\u001b[0m \u001b[0mfetched\u001b[0m\u001b[1;33m[\u001b[0m\u001b[1;33m:\u001b[0m\u001b[0mlen\u001b[0m\u001b[1;33m(\u001b[0m\u001b[0mself\u001b[0m\u001b[1;33m.\u001b[0m\u001b[0moutputs\u001b[0m\u001b[1;33m)\u001b[0m\u001b[1;33m]\u001b[0m\u001b[1;33m\u001b[0m\u001b[0m\n\u001b[0;32m   2677\u001b[0m \u001b[1;33m\u001b[0m\u001b[0m\n",
      "\u001b[1;32mc:\\users\\analytics\\appdata\\local\\conda\\conda\\envs\\tensorflow\\lib\\site-packages\\tensorflow\\python\\client\\session.py\u001b[0m in \u001b[0;36m__call__\u001b[1;34m(self, *args)\u001b[0m\n\u001b[0;32m   1449\u001b[0m         \u001b[1;32mif\u001b[0m \u001b[0mself\u001b[0m\u001b[1;33m.\u001b[0m\u001b[0m_session\u001b[0m\u001b[1;33m.\u001b[0m\u001b[0m_created_with_new_api\u001b[0m\u001b[1;33m:\u001b[0m\u001b[1;33m\u001b[0m\u001b[0m\n\u001b[0;32m   1450\u001b[0m           return tf_session.TF_SessionRunCallable(\n\u001b[1;32m-> 1451\u001b[1;33m               self._session._session, self._handle, args, status, None)\n\u001b[0m\u001b[0;32m   1452\u001b[0m         \u001b[1;32melse\u001b[0m\u001b[1;33m:\u001b[0m\u001b[1;33m\u001b[0m\u001b[0m\n\u001b[0;32m   1453\u001b[0m           return tf_session.TF_DeprecatedSessionRunCallable(\n",
      "\u001b[1;31mKeyboardInterrupt\u001b[0m: "
     ]
    }
   ],
   "source": [
    "lstm_autoencoder.fit(X_train, X_train,\n",
    "                     epochs=200,\n",
    "                     batch_size=128)"
   ]
  },
  {
   "cell_type": "code",
   "execution_count": 19,
   "metadata": {},
   "outputs": [],
   "source": [
    "test = np.random.rand(59, 1)\n",
    "X_train[0] = test"
   ]
  },
  {
   "cell_type": "code",
   "execution_count": 60,
   "metadata": {},
   "outputs": [
    {
     "data": {
      "text/plain": [
       "(44874, 59, 1)"
      ]
     },
     "execution_count": 60,
     "metadata": {},
     "output_type": "execute_result"
    }
   ],
   "source": [
    "X_training.shape"
   ]
  },
  {
   "cell_type": "code",
   "execution_count": 89,
   "metadata": {},
   "outputs": [],
   "source": [
    "prediction = lstm_autoencoder.predict(X_train[0:50000])"
   ]
  },
  {
   "cell_type": "code",
   "execution_count": 82,
   "metadata": {},
   "outputs": [
    {
     "name": "stdout",
     "output_type": "stream",
     "text": [
      "Populating the interactive namespace from numpy and matplotlib\n"
     ]
    },
    {
     "name": "stderr",
     "output_type": "stream",
     "text": [
      "c:\\users\\analytics\\appdata\\local\\conda\\conda\\envs\\tensorflow\\lib\\site-packages\\IPython\\core\\magics\\pylab.py:160: UserWarning: pylab import has clobbered these variables: ['dist']\n",
      "`%matplotlib` prevents importing * from pylab and numpy\n",
      "  \"\\n`%matplotlib` prevents importing * from pylab and numpy\"\n"
     ]
    }
   ],
   "source": [
    "import pandas as pd\n",
    "from scipy import spatial\n",
    "%pylab inline\n",
    "\n",
    "testNO = 10\n",
    "dists = []\n",
    "for x in range(0, len(X_training)):\n",
    "    #pd.DataFrame(prediction[testNO]).plot()  \n",
    "    #pd.DataFrame(X_training[testNO]).plot()  \n",
    "    dists.append(spatial.distance.cosine(prediction[x],X_training[x]))\n"
   ]
  },
  {
   "cell_type": "code",
   "execution_count": 95,
   "metadata": {},
   "outputs": [
    {
     "data": {
      "text/plain": [
       "0.15604021439035776"
      ]
     },
     "execution_count": 95,
     "metadata": {},
     "output_type": "execute_result"
    }
   ],
   "source": [
    "max(dists)"
   ]
  },
  {
   "cell_type": "code",
   "execution_count": 92,
   "metadata": {},
   "outputs": [
    {
     "name": "stdout",
     "output_type": "stream",
     "text": [
      "Populating the interactive namespace from numpy and matplotlib\n"
     ]
    }
   ],
   "source": [
    "import pandas as pd\n",
    "from scipy import spatial\n",
    "%pylab inline\n",
    "\n",
    "\n",
    "dists_negative = []\n",
    "for x in range(0, len(prediction)):\n",
    "    pd.DataFrame(prediction[testNO]).plot()  \n",
    "    pd.DataFrame(X_training[testNO]).plot()  \n",
    "    #dists_negative.append(spatial.distance.cosine(prediction[x],X_train[x]))\n"
   ]
  },
  {
   "cell_type": "code",
   "execution_count": 94,
   "metadata": {},
   "outputs": [
    {
     "data": {
      "text/plain": [
       "0.14591009255438692"
      ]
     },
     "execution_count": 94,
     "metadata": {},
     "output_type": "execute_result"
    }
   ],
   "source": [
    "max(dists_negative)"
   ]
  },
  {
   "cell_type": "code",
   "execution_count": 97,
   "metadata": {},
   "outputs": [
    {
     "data": {
      "text/plain": [
       "<matplotlib.axes._subplots.AxesSubplot at 0x1ad120a5588>"
      ]
     },
     "execution_count": 97,
     "metadata": {},
     "output_type": "execute_result"
    },
    {
     "data": {
      "image/png": "[encoded data removed]",
      "text/plain": [
       "<Figure size 432x288 with 1 Axes>"
      ]
     },
     "metadata": {
      "needs_background": "light"
     },
     "output_type": "display_data"
    }
   ],
   "source": [
    " pd.DataFrame(dists_negative).plot()  "
   ]
  },
  {
   "cell_type": "code",
   "execution_count": 98,
   "metadata": {},
   "outputs": [
    {
     "data": {
      "text/plain": [
       "<matplotlib.axes._subplots.AxesSubplot at 0x1aa42d00d68>"
      ]
     },
     "execution_count": 98,
     "metadata": {},
     "output_type": "execute_result"
    },
    {
     "data": {
      "image/png": "[encoded data removed]",
      "text/plain": [
       "<Figure size 432x288 with 1 Axes>"
      ]
     },
     "metadata": {
      "needs_background": "light"
     },
     "output_type": "display_data"
    }
   ],
   "source": [
    " pd.DataFrame(dists).plot()  "
   ]
  },
  {
   "cell_type": "code",
   "execution_count": 102,
   "metadata": {},
   "outputs": [
    {
     "ename": "TypeError",
     "evalue": "list indices must be integers or slices, not str",
     "output_type": "error",
     "traceback": [
      "\u001b[1;31m---------------------------------------------------------------------------\u001b[0m",
      "\u001b[1;31mTypeError\u001b[0m                                 Traceback (most recent call last)",
      "\u001b[1;32m<ipython-input-102-df28414691c8>\u001b[0m in \u001b[0;36m<module>\u001b[1;34m\u001b[0m\n\u001b[0;32m      2\u001b[0m \u001b[0mmse\u001b[0m \u001b[1;33m=\u001b[0m \u001b[0mnp\u001b[0m\u001b[1;33m.\u001b[0m\u001b[0mmean\u001b[0m\u001b[1;33m(\u001b[0m\u001b[0mnp\u001b[0m\u001b[1;33m.\u001b[0m\u001b[0mpower\u001b[0m\u001b[1;33m(\u001b[0m\u001b[0mX_train\u001b[0m\u001b[1;33m[\u001b[0m\u001b[1;36m0\u001b[0m\u001b[1;33m:\u001b[0m\u001b[1;36m50000\u001b[0m\u001b[1;33m]\u001b[0m \u001b[1;33m-\u001b[0m \u001b[0mprediction\u001b[0m\u001b[1;33m,\u001b[0m \u001b[1;36m2\u001b[0m\u001b[1;33m)\u001b[0m\u001b[1;33m,\u001b[0m \u001b[0maxis\u001b[0m\u001b[1;33m=\u001b[0m\u001b[1;36m1\u001b[0m\u001b[1;33m)\u001b[0m\u001b[1;33m\u001b[0m\u001b[0m\n\u001b[0;32m      3\u001b[0m error_df_test = pd.DataFrame({'Reconstruction_error': mse,\n\u001b[1;32m----> 4\u001b[1;33m                         'True_class': labels['y']})\n\u001b[0m\u001b[0;32m      5\u001b[0m \u001b[0merror_df_test\u001b[0m \u001b[1;33m=\u001b[0m \u001b[0merror_df_test\u001b[0m\u001b[1;33m.\u001b[0m\u001b[0mreset_index\u001b[0m\u001b[1;33m(\u001b[0m\u001b[1;33m)\u001b[0m\u001b[1;33m\u001b[0m\u001b[0m\n\u001b[0;32m      6\u001b[0m \u001b[0mthreshold_fixed\u001b[0m \u001b[1;33m=\u001b[0m \u001b[1;36m0.4\u001b[0m\u001b[1;33m\u001b[0m\u001b[0m\n",
      "\u001b[1;31mTypeError\u001b[0m: list indices must be integers or slices, not str"
     ]
    }
   ],
   "source": [
    "#test_x_predictions = autoencoder.predict(df_test_x_rescaled)\n",
    "mse = np.mean(np.power(X_train[0:50000] - prediction, 2), axis=1)\n",
    "error_df_test = pd.DataFrame({'Reconstruction_error': mse,\n",
    "                        'True_class': labels['y']})\n",
    "error_df_test = error_df_test.reset_index()\n",
    "threshold_fixed = 0.4\n",
    "groups = error_df_test.groupby('True_class')\n",
    "fig, ax = plt.subplots()\n",
    "for name, group in groups:\n",
    "    ax.plot(group.index, group.Reconstruction_error, marker='o', ms=3.5, linestyle='',\n",
    "            label= \"Break\" if name == 1 else \"Normal\")\n",
    "ax.hlines(threshold_fixed, ax.get_xlim()[0], ax.get_xlim()[1], colors=\"r\", zorder=100, label='Threshold')\n",
    "ax.legend()\n",
    "plt.title(\"Reconstruction error for different classes\")\n",
    "plt.ylabel(\"Reconstruction error\")\n",
    "plt.xlabel(\"Data point index\")\n",
    "plt.show();\n"
   ]
  },
  {
   "cell_type": "code",
   "execution_count": null,
   "metadata": {},
   "outputs": [],
   "source": []
  }
 ],
 "metadata": {
  "kernelspec": {
   "display_name": "Python 3",
   "language": "python",
   "name": "python3"
  },
  "language_info": {
   "codemirror_mode": {
    "name": "ipython",
    "version": 3
   },
   "file_extension": ".py",
   "mimetype": "text/x-python",
   "name": "python",
   "nbconvert_exporter": "python",
   "pygments_lexer": "ipython3",
   "version": "3.5.6"
  }
 },
 "nbformat": 4,
 "nbformat_minor": 2
}
